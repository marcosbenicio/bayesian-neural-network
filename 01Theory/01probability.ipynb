{
 "cells": [
  {
   "cell_type": "code",
   "execution_count": 23,
   "metadata": {},
   "outputs": [],
   "source": [
    "import numpy as np\n",
    "import pandas as pd\n",
    "\n",
    "np.random.seed(1234)"
   ]
  },
  {
   "cell_type": "markdown",
   "metadata": {},
   "source": [
    "**Dataset Features**\n",
    "\n",
    "- caseid: Respondent id (which is the index of the table).\n",
    "- year: Year when the respondent was surveyed.\n",
    "- age: Respondent’s age when surveyed.\n",
    "- sex: Male or female.\n",
    "- polviews: Political views on a range from liberal to conservative.\n",
    "- partyid: Political party affiliation: Democratic, Republican, or independent.\n",
    "- indus10: Code for the industry the respondent works in."
   ]
  },
  {
   "cell_type": "code",
   "execution_count": 24,
   "metadata": {},
   "outputs": [
    {
     "data": {
      "text/html": [
       "<div>\n",
       "<style scoped>\n",
       "    .dataframe tbody tr th:only-of-type {\n",
       "        vertical-align: middle;\n",
       "    }\n",
       "\n",
       "    .dataframe tbody tr th {\n",
       "        vertical-align: top;\n",
       "    }\n",
       "\n",
       "    .dataframe thead th {\n",
       "        text-align: right;\n",
       "    }\n",
       "</style>\n",
       "<table border=\"1\" class=\"dataframe\">\n",
       "  <thead>\n",
       "    <tr style=\"text-align: right;\">\n",
       "      <th></th>\n",
       "      <th>caseid</th>\n",
       "      <th>year</th>\n",
       "      <th>age</th>\n",
       "      <th>sex</th>\n",
       "      <th>polviews</th>\n",
       "      <th>partyid</th>\n",
       "      <th>indus10</th>\n",
       "    </tr>\n",
       "  </thead>\n",
       "  <tbody>\n",
       "    <tr>\n",
       "      <th>0</th>\n",
       "      <td>1</td>\n",
       "      <td>1974</td>\n",
       "      <td>21.0</td>\n",
       "      <td>1</td>\n",
       "      <td>4.0</td>\n",
       "      <td>2.0</td>\n",
       "      <td>4970.0</td>\n",
       "    </tr>\n",
       "    <tr>\n",
       "      <th>1</th>\n",
       "      <td>2</td>\n",
       "      <td>1974</td>\n",
       "      <td>41.0</td>\n",
       "      <td>1</td>\n",
       "      <td>5.0</td>\n",
       "      <td>0.0</td>\n",
       "      <td>9160.0</td>\n",
       "    </tr>\n",
       "    <tr>\n",
       "      <th>2</th>\n",
       "      <td>5</td>\n",
       "      <td>1974</td>\n",
       "      <td>58.0</td>\n",
       "      <td>2</td>\n",
       "      <td>6.0</td>\n",
       "      <td>1.0</td>\n",
       "      <td>2670.0</td>\n",
       "    </tr>\n",
       "  </tbody>\n",
       "</table>\n",
       "</div>"
      ],
      "text/plain": [
       "   caseid  year   age  sex  polviews  partyid  indus10\n",
       "0       1  1974  21.0    1       4.0      2.0   4970.0\n",
       "1       2  1974  41.0    1       5.0      0.0   9160.0\n",
       "2       5  1974  58.0    2       6.0      1.0   2670.0"
      ]
     },
     "execution_count": 24,
     "metadata": {},
     "output_type": "execute_result"
    }
   ],
   "source": [
    "# General Social Survey data\n",
    "gss = pd.read_csv('Data/gss_bayes.csv')\n",
    "gss.head(3)"
   ]
  },
  {
   "cell_type": "markdown",
   "metadata": {},
   "source": [
    "# **Probabilities**"
   ]
  },
  {
   "cell_type": "markdown",
   "metadata": {},
   "source": [
    "## **Ordinary Probability**\n",
    "\n",
    "In ordinary probability theory, we consider events and their associated probabilities, which describe the certainty or possibility of these events occurring in a random experiment.\n",
    "\n",
    "A random experiment is a procedure or process that yields an outcome from a given sample space, where the sample space is the set of all possible outcomes. Each outcome is considered an elementary event, and a collection of elementary events forms an event. The probability of an event is a measure of the certainty that the event will occur, with this measure being a number between 0 and 1.\n",
    "\n",
    "A fundamental concept in probability theory is the law of large numbers, which asserts that as the number of trials in a random experiment increases indefinitely, the relative frequency of any given event will converge to the true probability of that event. Mathematically, this can be expressed as:\n",
    "\n",
    "\n",
    "$$\\lim_{N \\to \\infty} \\frac{N(A)}{N} = P(A)$$\n",
    "\n",
    "where $N$ is the total number of trials, $N(A)$ is the number of times event $A$ occurs, and $P(A)$ is the true probability of event $A$. This law estimate probabilities through the relative frequencies observed in empirical settings.\n",
    "\n",
    "Let's consider an example to illustrate the theory:"
   ]
  },
  {
   "cell_type": "markdown",
   "metadata": {},
   "source": [
    "**Exemple**\n",
    "\n",
    "What is the probability of choosing at random a banking worker? The code for “Banking and related activities” is 6870."
   ]
  },
  {
   "cell_type": "code",
   "execution_count": 25,
   "metadata": {},
   "outputs": [],
   "source": [
    "def prob(A):\n",
    "    \"\"\"Computes the probability of a proposition, A.\"\"\"\n",
    "    N = len(A)\n",
    "    return A.sum()/N # or A.mean()"
   ]
  },
  {
   "cell_type": "code",
   "execution_count": 26,
   "metadata": {},
   "outputs": [
    {
     "name": "stdout",
     "output_type": "stream",
     "text": [
      "P(banker) =  0.014769730168391155\n"
     ]
    }
   ],
   "source": [
    "# Banking and related activities\n",
    "banker = (gss['indus10'] == 6870)\n",
    "\n",
    "print(\"P(banker) = \", prob(banker))"
   ]
  },
  {
   "cell_type": "markdown",
   "metadata": {},
   "source": [
    "We can se that about $1.5\\%$ of the respondents work in banking, so if we choose a random person from the dataset, the probability they are a banker is about $1.5\\%$."
   ]
  },
  {
   "cell_type": "markdown",
   "metadata": {},
   "source": [
    "## **Joint (Conjunction) Probability**\n",
    "\n",
    "Joint probability refers to the probability of two or more events happening at the same time. For two events, $A$ and $B$, the joint probability is mathematically represented as:\n",
    "\n",
    "$$\n",
    "P(A \\cap B) = P(A \\text{ and } B)\n",
    "$$\n",
    "\n",
    "In practical terms, it answers questions of the kind: \"What is the probability that event $A$ occurs while event $B$ also occurs?\" \n",
    "\n",
    "Consider a random experiment with a finite number of outcomes with each having equal probability of occurrence. Let $N$ denote the total number of trials in the experiment. Suppose $N(A)$ and $N(B)$ represent the number of times events $A$ and $B$ occur, respectively, and $N(A \\cap B)$ represents the number of times both events $A$ and $B$ happen together ( Intersection set). In this scenario, the joint probability can be expressed as:\n",
    "\n",
    "$$\n",
    "P(A \\cap B) = \\frac{N(A \\cap B)}{N}\n",
    "$$\n",
    "\n",
    "If we are considering more than two events, say $A$, $B$, and $C$, the joint probability can be generalized further as:\n",
    "\n",
    "$$\n",
    "P(A \\cap B \\cap C) = P(A \\text{ and } B \\text{ and } C)\n",
    "$$\n",
    "\n",
    "This concept is extendable to any number of events, providing a robust tool to evaluate the probability of several interconnected events occurring simultaneously.\n",
    "\n",
    "**Properties**\n",
    "\n",
    "- If events $A$ and $B$ are independent, the joint probability can be derived from the individual probabilities of the events:\n",
    "  $\n",
    "  P(A \\cap B) = P(A)P(B)\n",
    "  $\n",
    "  \n",
    "- If events are mutually exclusive, it implies that they cannot occur at the same time, hence the joint probability is zero:\n",
    "  $\n",
    "  P(A \\cap B) = 0\n",
    "  $"
   ]
  },
  {
   "cell_type": "markdown",
   "metadata": {},
   "source": [
    "**Exemple**\n",
    "\n",
    "What is the probability that a respondent is a banker and a Democrat? Where the `partyid` are encoded as:\n",
    "\n",
    "- 0 Strong democrat\n",
    "- 1 Not strong democrat\n",
    "- 2 Independent, near democrat\n",
    "- 3 Independent\n",
    "- 4 Independent, near republican\n",
    "- 5 Not strong republican\n",
    "- 6 Strong republican\n",
    "- 7 Other party"
   ]
  },
  {
   "cell_type": "markdown",
   "metadata": {},
   "source": [
    "As we should expect, `prob(banker & democrat)`= 0.47% is less than `prob(banker)` = 1.5 %, because\n",
    "not all bankers are Democrats."
   ]
  },
  {
   "cell_type": "code",
   "execution_count": 27,
   "metadata": {},
   "outputs": [
    {
     "name": "stdout",
     "output_type": "stream",
     "text": [
      "P(democrat and banker) = 0.004686548995739501\n"
     ]
    }
   ],
   "source": [
    "# Banking and related activities\n",
    "banker = (gss['indus10'] == 6870)\n",
    "\n",
    "# Banking and related activities\n",
    "democrat = (gss['partyid'] <= 1)\n",
    "\n",
    "print(\"P(democrat and banker) =\", prob(banker & democrat))"
   ]
  },
  {
   "cell_type": "markdown",
   "metadata": {},
   "source": [
    "## **Conditional Probability**\n",
    "\n",
    "Conditional probability helps us understand the relationship between two events, $A$ and $B$. In particular, it describes the probability of event $A$ given that event $B$ has already occurred. The conditional probability of event $A$ given event $B$ is defined as:\n",
    "\n",
    "$$P(A|B) = \\frac{P(A \\cap B)}{P(B)}.$$\n",
    "\n",
    "Here, $P(A \\cap B)$ represents the joint probability, which signifies the chance of two or more events occurring simultaneously. For events $A$ and $B$, the joint probability is denoted by $P(A \\cap B)$, indicating the probability of both events $A$ and $B$ happening together.\n",
    "\n",
    "Suppose we conduct a random experiment with a finite number of outcomes, all having equal probability. Let $N$ represent the total number of trials, $N(B)$ be the number of trials resulting in event $B$, and $N(A \\cap B)$ be the number of trials where both $A$ and $B$ occur together. In this case, the probability of $B$ and the joint probability $A \\cap B$ can be expressed as:\n",
    "\n",
    "$$P(B) = \\frac{N(B)}{N}, ~~~~~~P(A \\cap B) = \\frac{N(A \\cap B)}{N},$$\n",
    "\n",
    "Using these expressions, we can rewrite the conditional probability of $A$ given $B$ as:\n",
    "\n",
    "$$P(A|B) = \\frac{N(A \\cap B)}{N(B)}.$$\n",
    "\n",
    "This formulation helps clarify the meaning of conditional probability. Essentially, it calculates the proportion of trials where both $A$ and $B$ occur (joint probability) out of the trials where event $B$ occurs.\n",
    "\n",
    "\n",
    "- If $A$ and $B$ are mutually exclusive events (A and B cannot occur at the same time), then $A \\cap B = \\emptyset$ and $P(A|B) = 0$.\n",
    "- If $A$ implies in  $B$ ($B$ is subset of $A$: $A \\subset B$ ), then $P(A|B) = 1$."
   ]
  },
  {
   "cell_type": "markdown",
   "metadata": {},
   "source": [
    "**Example**\n",
    "\n",
    "What is the probability that a respondent is a Democrat, given that they are liberal? where `polviews` are encoded as:\n",
    "\n",
    "\n",
    "- 1 Extremely liberal\n",
    "- 2 Liberal\n",
    "- 3 Slightly liberal\n",
    "- 4 Moderate\n",
    "- 5 Slightly conservative\n",
    "- 6 Conservative\n",
    "- 7 Extremely conservative\n",
    "\n",
    "\n",
    "We can compute this probability in two steps:\n",
    "\n",
    "1. Select all respondents who are liberal.\n",
    "2. Compute the fraction of the selected respondents who are Democrats."
   ]
  },
  {
   "cell_type": "code",
   "execution_count": 28,
   "metadata": {},
   "outputs": [],
   "source": [
    "# Propositions\n",
    "# Identify liberal respondents\n",
    "liberal = (gss['polviews'] <= 3)\n",
    "# Identify bankers by industry code\n",
    "banker = (gss['indus10'] == 6870)\n",
    "# Identify Democrats and strong Democrats\n",
    "democrat = (gss['partyid'] <= 1)\n",
    "\n",
    "# Intersection of the two sets\n",
    "liberal_democrats = democrat[liberal]"
   ]
  },
  {
   "cell_type": "markdown",
   "metadata": {},
   "source": [
    "This essentially gives the intersection of the two sets of conditions, yielding a series of booleans that are True only where someone is both liberal and a democrat."
   ]
  },
  {
   "cell_type": "code",
   "execution_count": 46,
   "metadata": {},
   "outputs": [],
   "source": [
    "def conditional(proposition, given):\n",
    "    prob = lambda A: A.mean() # ordinary probability\n",
    "    return prob(proposition[given])"
   ]
  },
  {
   "cell_type": "code",
   "execution_count": 52,
   "metadata": {},
   "outputs": [
    {
     "name": "stdout",
     "output_type": "stream",
     "text": [
      "p(liberal|democrat) =  0.5206403320240125\n",
      "p(liberal|democrat) =  0.5206403320240125\n",
      "p(liberal|democrat) =  0.5206403320240124\n"
     ]
    }
   ],
   "source": [
    "# Using Boolean series\n",
    "print(\"p(liberal|democrat) = \", prob(liberal_democrats))\n",
    "print(\"p(liberal|democrat) = \", conditional(democrat, given = liberal))\n",
    "\n",
    "# Using formula for conditional probability\n",
    "print(\"p(liberal|democrat) = \",prob(liberal & democrat)/prob(liberal))"
   ]
  },
  {
   "cell_type": "markdown",
   "metadata": {},
   "source": [
    "As we can observe, ordinary probability considers the probability of an event occurring over the entire sample space . In contrast, conditional probability focuses on the probability of an event occurring within a reduced sample space, confined by the conditions or information we have at hand. Essentially, conditional probability allows us to update the probability of an event by incorporating the new evidence or conditions specified. We also can combine the conditional and joint probabilities as follows:"
   ]
  },
  {
   "cell_type": "code",
   "execution_count": 31,
   "metadata": {},
   "outputs": [
    {
     "name": "stdout",
     "output_type": "stream",
     "text": [
      "p(A|B and C) =  0.48466257668711654\n",
      "p(B and C|A) =  0.004376003988256799\n"
     ]
    }
   ],
   "source": [
    "print(\"p(A|B and C) = \", conditional(democrat, given = liberal & banker))\n",
    "print(\"p(B and C|A) = \", conditional(liberal & banker, given = democrat))"
   ]
  },
  {
   "cell_type": "markdown",
   "metadata": {},
   "source": [
    "## **Addition Law for Probability**\n",
    "\n",
    "Consider two mutually exclusive events $A_1$ and $A_2$ associated with the outcomes of a random experiment, and let $A = A_1 \\bigcup A_2$ be the union of the two events. If events $A_1$ and $A_2$ are mutually exclusive, by definition, they cannot occur simultaneously. This implies that the intersection of these two events must be $A_1 \\bigcap A_2 = \\emptyset$. If $A$ occurs in a trial, it means that either event $A_1$ has occurred, or event $A_2$ has occurred, but not both since $A_1$ and $A_2$ are mutually exclusive.\n",
    "\n",
    "The union of the events $A_1 \\bigcup A_2$ includes all the outcomes of both events, without any overlap since they are mutually exclusive. So, when counting the number of outcomes in $A$, we are essentially counting the number of outcomes in $A_1$ and $A_2$ separately and then adding them together. Therefore, we can write:\n",
    "\n",
    "$$\n",
    "\\frac{N(A)}{N} = \\frac{N(A_1)}{N} + \\frac{N(A_2)}{N}\n",
    "$$\n",
    "\n",
    "where $N$ is the total number of trials in the experiment, and $N(A)$, $N(A_1)$, $N(A_2)$ are the total number of trials leading to events $A$, $A_1$, and $A_2$, respectively.\n",
    "\n",
    "For a sufficiently large number of trials $N$, the relative frequencies $\\frac{N(A)}{N}$, $\\frac{N(A_1)}{N}$, $\\frac{N(A_2)}{N}$ will coincide with the corresponding probabilities $P(A)$, $P(A_1)$, $P(A_2)$. We get:\n",
    "\n",
    "$$\n",
    "P(A) = P(A_1) + P(A_2)\n",
    "$$\n",
    "\n",
    "Similarly, if events $A_1$, $A_2$, and $A_3$ are mutually exclusive, it means that no two of these events can occur simultaneously. This implies that their pairwise intersections are empty: $A_1 \\bigcap A_2 = \\emptyset$, $A_2 \\bigcap A_3 = \\emptyset$, and $A_1 \\bigcap A_3 = \\emptyset$. As a result, the union of events $A_1$ and $A_2$ is also mutually exclusive with $A_3$. For the probability, this can be expressed as:\n",
    "\n",
    "$$\n",
    "P(A_1 \\bigcup A_2 \\bigcup A_3) = P(A_1 \\bigcup A_2) + P(A_3)\n",
    "$$\n",
    "\n",
    "Since $A_1$ and $A_2$ are mutually exclusive, we get:\n",
    "\n",
    "$$\n",
    "P(A_1 \\bigcup A_2 \\bigcup A_3) =  P(A_1) + P(A_2) + P(A_3)\n",
    "$$\n",
    "\n",
    "More generally, given $N$ mutually exclusive events $A_1$, $A_2$, $\\cdots$, $A_n$, we have the formula:\n",
    "\n",
    "$$\n",
    "P(\\bigcup_{k=1}^{n}A_{k}) = \\sum_{k=1}^{n} P(A_{k}) \n",
    "$$"
   ]
  },
  {
   "cell_type": "markdown",
   "metadata": {},
   "source": [
    "**Example**\n",
    "\n",
    "We are interested in finding the probability that a randomly selected respondent is **either a liberal Democrat or a conservative Republican**. To do this, we will identify and use two mutually exclusive events based on the respondents' political party affiliations (`partyid`) and views (`polviews`).\n",
    "\n",
    "for the liberal and conservative party affiliations the code are :\n",
    "\n",
    "- 1 Extremely liberal\n",
    "- 2 Liberal\n",
    "- 3 Slightly liberal\n",
    "- 5 Slightly conservative\n",
    "- 6 Conservative\n",
    "- 7 Extremely conservative\n",
    "\n",
    "For the political view of democrat and republican we have:\n",
    "\n",
    "- 0 Strong democrat\n",
    "- 1 Not strong democrat\n",
    "- 2 Independent, near democrat\n",
    "- 4 Independent, near republican\n",
    "- 5 Not strong republican\n",
    "- 6 Strong republican\n",
    "\n",
    "\n",
    "\n"
   ]
  },
  {
   "cell_type": "code",
   "execution_count": 32,
   "metadata": {},
   "outputs": [
    {
     "name": "stdout",
     "output_type": "stream",
     "text": [
      "liberal democrat Intersection conservative republican =  0\n"
     ]
    }
   ],
   "source": [
    "# Political view\n",
    "liberal = (gss['polviews'] <= 3)\n",
    "conservative = (gss['polviews'] >= 5)\n",
    "\n",
    "# Party affiliations\n",
    "democrat = (gss['partyid'] <= 1)\n",
    "republican = (gss['partyid'] >= 4)\n",
    "\n",
    "# Intersections of partyid and polviews\n",
    "liberal_democrat = liberal & democrat\n",
    "conservative_republican = conservative & republican\n",
    "\n",
    "# Intersection of mutually exclusive set of events --> Empty set\n",
    "empty_set = (liberal_democrat & conservative_republican).sum()\n",
    "print( \"liberal democrat Intersection conservative republican = \", empty_set)"
   ]
  },
  {
   "cell_type": "markdown",
   "metadata": {},
   "source": [
    "The probability of randomly selecting either a liberal democrat or a conservative republican is given by:"
   ]
  },
  {
   "cell_type": "code",
   "execution_count": 33,
   "metadata": {},
   "outputs": [
    {
     "name": "stdout",
     "output_type": "stream",
     "text": [
      "Total Probability = 0.3445120714140799\n"
     ]
    }
   ],
   "source": [
    "# Total probability of either a liberal democrat or a conservative republican\n",
    "p = prob(liberal_democrat) + prob(conservative_republican)\n",
    "print('Total Probability =', p)"
   ]
  },
  {
   "cell_type": "markdown",
   "metadata": {},
   "source": [
    "### **Addition Law for Conditional Probability**\n",
    "\n",
    "If $A_1, \\cdots, A_n$ are mutually exclusive events, with union $A = \\bigcup_{k=1}^{n}A_{k}$, then the addition law for conditional probability is\n",
    "  $P(A|B) = \\sum_k P(A_k|B)$.\n",
    "\n",
    "$\\textbf{proof}:$\n",
    "  \n",
    "$$A \\cap B = \\bigcup_{k=1}^{n}(A_{k}\\cap B) $$\n",
    "that gives the union of each intersection of $A_k \\cap B$ for each $k = 1,2,...n$. By the **addition law** : \n",
    "\n",
    "$$P(\\bigcup_{k=1}^{n}(A_{k}\\cap B)) = \\sum_{k=1}^{n} P(A_{k}\\cap B) $$\n",
    "\n",
    "and dividing  by $P(B)$ we get:\n",
    "\n",
    "$$\\frac{P(\\bigcup_{k=1}^{n}(A_{k}\\cap B))}{P(B)} = \\sum_{k=1}^{n} \\frac{P(A_{k}\\cap B)}{P(B)} $$\n",
    "\n",
    "then\n",
    "$$P(A|B) = \\sum_{k=1}^{n} P(A_k|B) ~~~~\\square$$"
   ]
  },
  {
   "cell_type": "markdown",
   "metadata": {},
   "source": [
    "**Example**\n",
    "\n",
    "In a survey, respondents were asked about their age and their political party affiliation. To conduct this analysis, we focus on two age groups: those younger than 30 years old, and those between 30 and 40 years old. What is the probability that a respondent falls into one of two age categories, given that they identify as a Democrat?\n"
   ]
  },
  {
   "cell_type": "markdown",
   "metadata": {},
   "source": [
    "Here, the union of two mutually exclusive events $A_1$ and $A_2$ to create a new event that we can call \"age group\". This \"age group\" event $A$ encompasses all the possible outcomes for a respondent's age being less than 30 or between 30 and 40, and it can be formally defined as\n",
    "\n",
    "$$\n",
    "A = A_1 \\cup A_2\n",
    "$$\n",
    "\n",
    "where\n",
    "- $A_1$: The event where the respondent is younger than 30 years old\n",
    "- $A_2$: The event where the respondent is between 30 and 40 years old\n",
    "\n",
    "utilizing the addition law for conditional probability, where $B$ is the event that the respondent identifies as a Democrat we can get the following result:"
   ]
  },
  {
   "cell_type": "code",
   "execution_count": 34,
   "metadata": {},
   "outputs": [
    {
     "name": "stdout",
     "output_type": "stream",
     "text": [
      "Intersection age sets = 0 \n",
      "\n",
      "P(ages group|democrat)=  0.39638841189829943\n"
     ]
    }
   ],
   "source": [
    "def conditional(proposition, given):\n",
    "    prob = lambda A: A.mean() # ordinary probability\n",
    "    return prob(proposition[given])\n",
    "\n",
    "\n",
    "democrat = (gss['partyid'] <= 1)\n",
    "less_30 = (gss['age'] < 30)\n",
    "between_30_40 = (gss['age'] >= 30) & (gss['age'] <= 40)\n",
    "\n",
    "# Mutually exclusive events\n",
    "print(\"Intersection age sets = {} \\n\".format( (less_30 & between_30_40).sum()) )\n",
    "\n",
    "# Calculate conditional probabilities\n",
    "p = conditional(less_30, given = democrat) + conditional(between_30_40, given = democrat)\n",
    "print(\"P(ages group|democrat)= \", p)"
   ]
  },
  {
   "cell_type": "markdown",
   "metadata": {},
   "source": [
    "## **Law of Total Probability**\n",
    "\n",
    "Suppose we have a complete set of mutually exclusive and exhaustive events $B_1, \\cdots, B_n$, meaning only one of these events can occur at a time, and their union covers the entire sample space. We can find the ordinary probability of event $A$ occurring using the total probability formula:\n",
    "\n",
    "$$P(A) = \\sum_k P(A|B_k)P(B_k)$$\n",
    "\n",
    "To prove this, first let's better define the concept of mutually exclusive and exhaustive events. Mutually exclusive events, as we see before, are events that cannot occur simultaneously. On the other hand, exhaustive events are events that, when considered together, cover the entire sample space $\\Omega$. When a set of events is both mutually exclusive and exhaustive, it means that they cover all possible outcomes without overlapping.\n",
    "\n",
    "To better understand mutually exclusive and exhaustive events, consider the example of rolling a fair six-sided die. The sample space for this experiment is the set of outcomes $\\{1, 2, 3, 4, 5, 6\\}$. We can define the events as follows:\n",
    "\n",
    "- Event $A_1$: The die shows an odd number (outcomes: $\\{1, 3, 5\\}$)\n",
    "- Event $A_2$: The die shows an even number (outcomes: $\\{2, 4, 6\\}$)\n",
    "\n",
    "The events $A_1$ and $A_2$ are mutually exclusive, because no outcome can be both odd and even simultaneously, meaning the intersection of $A_1$ and $A_2$ is an empty set. Furthermore, these events are exhaustive, because together they cover the entire sample space (every possible outcome is either odd or even). Thus, the set {$A_1$, $A_2$} is both mutually exclusive and exhaustive.\n",
    "\n",
    "$\\textbf{proof}:$\n",
    "\n",
    "\n",
    "Consider $\\Omega$ as the sample space. If $B_1, \\cdots, B_n$ are all the possible mutually exclusive and exhaustive events. If their union covers the entire sample space, then:\n",
    "\n",
    "$$\\bigcup_k B_k= \\Omega$$\n",
    "\n",
    "Consequently, event $A$ can be expressed as the union of its intersections with each of the mutually exclusive events $B_k$:\n",
    "\n",
    "$$A = \\bigcup_k (A \\cap B_k)$$\n",
    "\n",
    "Since the events $A \\cap B_k$ are mutually exclusive, we can apply the addition rule of probability:\n",
    "$$P(A) = P(\\bigcup_k (A \\cap B_k) = \\sum_k P(A \\cap B_k)$$\n",
    "\n",
    "Now we can rewrite the probability of the intersection using conditional probability:\n",
    "\n",
    "$$P(A) = P(\\bigcup_k (A \\cap B_k)) =  \\sum_k P(A \\cap B_k) = \\sum_k \\frac{P(A \\cap B_k)}{P(B_k)} P(B_k) = \\sum_k  P(A |B_k)P(B_k)~~~~ \\square$$\n",
    "\n",
    "This proof demonstrates how we can find the probability of an event $A$ occurring by considering its relationship with a set of mutually exclusive and exhaustive events $B_1, \\cdots, B_n$."
   ]
  },
  {
   "cell_type": "markdown",
   "metadata": {},
   "source": [
    "**Example**\n",
    "\n",
    "Compute the probability that a respondent is a banker using the law of total probability.\n",
    "\n",
    "Utilizing the ordinary probability, we get:\n",
    "\n",
    "$$P(\\text{banker}) = \\frac{N(\\text{banker})}{N}$$"
   ]
  },
  {
   "cell_type": "code",
   "execution_count": 35,
   "metadata": {},
   "outputs": [
    {
     "name": "stdout",
     "output_type": "stream",
     "text": [
      "P(banker) =  0.014769730168391155\n"
     ]
    }
   ],
   "source": [
    "banker = (gss['indus10'] == 6870)\n",
    "\n",
    "print(\"P(banker) = \", prob(banker))"
   ]
  },
  {
   "cell_type": "markdown",
   "metadata": {},
   "source": [
    "For applying the law of total probability, we need a mutually exclusive and exhaustive set partitioning the sample space. Here, the 'male' and 'female' categories fulfill this requirement, allowing us to express the probability as a summation:\n",
    "\n",
    "$$P(\\text{banker}) = P(\\text{banker}|\\text{male})P(\\text{male}) + P(\\text{banker}|\\text{female})P(\\text{female}) $$"
   ]
  },
  {
   "cell_type": "code",
   "execution_count": 36,
   "metadata": {},
   "outputs": [
    {
     "name": "stdout",
     "output_type": "stream",
     "text": [
      "P(banker) =  0.014769730168391153\n"
     ]
    }
   ],
   "source": [
    "male = (gss['sex'] == 1)\n",
    "female = (gss['sex'] == 2)\n",
    "\n",
    "p = conditional(banker, given= male)*prob(male) + conditional(banker, given = female)*prob(female)\n",
    "print(\"P(banker) = \", p)"
   ]
  },
  {
   "cell_type": "markdown",
   "metadata": {},
   "source": [
    "We can further extend our analysis by partitioning the sample space into more refined categories using the `polviews` feature, which represents the political views of the respondents. This feature contains seven distinct values, each corresponding to a specific political viewpoint.\n",
    "\n",
    "To implement this, we will compute the total probability of a respondent being a banker by summing over all the conditional probabilities of being a banker given each political view, weighted by the probability of that political view:\n",
    "\n",
    "$$P(\\text{banker}) = \\sum^{7}_{i=1}  P(\\text{banker} |\\text{polviews} = i)P(\\text{polviews} = i)$$"
   ]
  },
  {
   "cell_type": "code",
   "execution_count": 53,
   "metadata": {},
   "outputs": [
    {
     "data": {
      "text/plain": [
       "polviews\n",
       "1.0     1442\n",
       "2.0     5808\n",
       "3.0     6243\n",
       "4.0    18943\n",
       "5.0     7940\n",
       "6.0     7319\n",
       "7.0     1595\n",
       "Name: count, dtype: int64"
      ]
     },
     "execution_count": 53,
     "metadata": {},
     "output_type": "execute_result"
    }
   ],
   "source": [
    "polviews = gss['polviews']\n",
    "\n",
    "polviews.value_counts().sort_index()"
   ]
  },
  {
   "cell_type": "code",
   "execution_count": 38,
   "metadata": {},
   "outputs": [
    {
     "name": "stdout",
     "output_type": "stream",
     "text": [
      "P(banker) =  0.014769730168391157\n"
     ]
    }
   ],
   "source": [
    "p = sum( prob(polviews == i)*conditional(banker, given = (polviews == i))\n",
    "    for i in range(1, 8)) \n",
    "\n",
    "print(\"P(banker) = \", p)"
   ]
  },
  {
   "cell_type": "markdown",
   "metadata": {},
   "source": [
    "# **Bayes's Theorem**\n",
    "\n",
    "Given two events A and B, Bayes' theorem relates the conditional probability of A given B ($P(A|B)$) to the conditional probability of B given A ($P(B|A)$), along with the individual probabilities of A ($P(A)$) and B ($P(B)$):\n",
    "\n",
    "​$$P(A|B) = \\frac{P(B|A) \\cdot P(A)}{P(B)} = \\frac{P(B|A) \\cdot P(A)}{\\sum_k P(B|A_k)P(A_k)} $$\n",
    "\n",
    "where:\n",
    "\n",
    "- $P(A|B)$: is the **posterior probability**. It represents the probability of event A happening, given that event B has occurred. This is what we're trying to find using Bayes' theorem. It reflects our updated belief about event A after taking into account the new information provided by event B.\n",
    "\n",
    "- $P(B|A)$: is the **likelihood**. It represents the probability of event B happening, given that event A has occurred. This is often a known value or can be estimated from available data. It tells us how likely it is to observe event B when event A is true.\n",
    "\n",
    "- $P(A)$: is the **prior probability**. It represents the probability of event A happening before taking into account any new information from event B. This is our initial belief about event A and can be based on previous data, expert opinion, or assumptions.\n",
    "\n",
    "- $P(B)$: is the **total probability or evidence**. It represents the overall probability of event B happening, regardless of whether event A happens or not. This value can be calculated using the **law of total probability**, which takes into account both the probabilities of B happening when A happens and when A doesn't happen. Specifically, if we have a finite set of mutually exclusive and exhaustive events $A_1, \\cdots, A_n$, then the probability of event B can be expressed as:\n",
    "  $$P(B) = \\sum_k P(B|A_k)P(A_k)$$\n",
    "  - **Mutually exclusive:** The events $A_k$ do not occur simultaneously. For any pair of events $A_i$ and $A_j$, if $i \\neq j$, then $P(A_i \\cap A_j) = 0$.\n",
    "  - **Exhaustive:** The union of all events $A_k$ covers the entire sample space, meaning that at least one of the events $A_k$ must occur. Mathematically, $\\bigcup_k A_k = \\Omega$, where $\\Omega$ is the sample space.\n",
    "\n",
    "$\\textbf{proof}:$\n",
    "\n",
    "For event A given event B, the conditional probability is defined as:\n",
    "\n",
    "$$P(A|B) = \\frac{P(A \\bigcap B)}{P(B)}$$\n",
    "\n",
    "Likewise, the conditional probability of event B given event A is expressed as:\n",
    "$$P(B|A) = \\frac{P(A \\bigcap B)}{P(A)}$$\n",
    "\n",
    "Our objective is to derive Bayes' theorem, which connects $P(A|B)$ and $P(B|A)$. To achieve this, we first isolate $P(A \\cap B)$ in the second equation::\n",
    "$$P(A \\bigcap B) = P(B|A) \\cdot P(A)$$\n",
    "\n",
    "Next, substitute this expression for $P(A \\cap B)$ into the first equation:\n",
    "$$P(A|B) = \\frac{P(B|A) \\cdot P(A)}{P(B)}~~~~\\square$$"
   ]
  },
  {
   "cell_type": "markdown",
   "metadata": {},
   "source": [
    "## **Interpretations of Bayes's Theorem**\n",
    "\n",
    "**Bayes's Rule as Cause and Effect**\n",
    "\n",
    "At its core, Bayes' rule offers a powerful mechanism to invert conditional probabilities. Suppose you know the likelihood of an effect given a cause, $P(B|A)$, and we're curious about the likelihood of the cause given the effect, $P(A|B)$. Bayes' theorem enables this inversion, effectively allowing to transition between cause and effect. \n",
    "\n",
    "**Bayes's Rule to update Beliefs ( Bayesian update)**\n",
    "\n",
    "Beyond inverting conditional probabilities, Bayes' theorem also embodies the Bayesian philosophy of updating beliefs with new data. Here, the key is the notion of the \"prior\" and the \"posterior\". The prior belief, $P(H)$, represents what initially we think about the hypothesis $H$. As new data $D$ becomes available, we update this belief to get a posterior belief, $P(H|D)$. In this context, the theorem is formulated as:\n",
    "\n",
    "\n",
    "$$ P(H|D) = \\frac{P(H)P(D|H)}{P(D)} $$\n",
    "\n",
    "Each term in this equation is defined as follows:\n",
    "- $ P(H) $: The prior probability of the hypothesis before observing the data.\n",
    "- $ P(H|D) $: The posterior probability of the hypothesis after observing the data.\n",
    "- $ P(D|H) $: The likelihood of observing the data under the hypothesis.\n",
    "- $ P(D) $: The total probability of observing the data under any hypothesis.\n",
    "\n",
    "Calculating the total probability of the data, $ P(D) $, can be challenging since it represents the probability of the data under all possible hypotheses. A common simplification is to consider a set of hypotheses that are:\n",
    "- Mutually exclusive: only one hypothesis can be true.\n",
    "- Collectively exhaustive: at least one of the hypotheses must be true.\n",
    "\n",
    "Under these conditions, we can compute $ P(D) $ using the law of total probability. For two hypotheses, $ H_1 $ and $ H_2 $, this is calculated as:\n",
    "\n",
    "$$ P(D) = P(H_1)P(D|H_1) + P(H_2)P(D|H_2) $$\n",
    "\n",
    "For any number of hypotheses, the formula generalizes to:\n",
    "\n",
    "$$ P(D) = \\sum_i P(H_i)P(D|H_i) $$"
   ]
  },
  {
   "cell_type": "markdown",
   "metadata": {},
   "source": [
    "## **Bayes's Applications**\n",
    "### **Urn problem**\n",
    "\n",
    "Imagine a scenario involving two urns, each containing a mixture of blue and red balls:\n",
    "\n",
    "- urn 1 contains 30 blue balls and 10 red cookies.\n",
    "- urn 2 contains 20 blue balls and 20 red cookies.\n",
    "\n",
    "Now suppose we choose one of the urn at random and, without looking, choose a\n",
    "ball at random. If the ball is blue, what is the probability that it came from\n",
    "urn 1?\n",
    "\n",
    "Now, let's consider a situation where we randomly select an urn and, without looking, randomly select a ball. If the picked ball turns out to be blue, we are faced with the question: what is the probability that it was selected from Urn 1?\n",
    "\n"
   ]
  },
  {
   "cell_type": "markdown",
   "metadata": {},
   "source": [
    "**bayes's as cause-and-effect**\n",
    "\n",
    "To solve this problem, we can employ a cause-and-effect framework of bayes theorem. More specifically, our goal is to determine the probability that Urn 1 was the chosen urn, given that a blue ball was selected:\n",
    "\n",
    "$$P(\\text{urn 1}|\\text{blue})$$\n",
    "\n",
    "However, the information provided only gives us the reverse probabilities: the likelihood of drawing a blue ball given that we chose from Urn 1 or Urn 2:\n",
    "\n",
    "$$P(\\text{blue}|\\text{urn 1})$$\n",
    "\n",
    "$$P(\\text{blue}|\\text{urn 2})$$\n",
    "\n",
    "With these probabilities, we can employ Bayes' theorem to compute the desired probability as follows:\n",
    "\n",
    "$$P(\\text{urn 1}|\\text{blue}) =  \\frac{P(\\text{blue}|\\text{urn 1})P(\\text{urn 1})}{P(\\text{blue})}$$\n",
    "\n",
    "To calculate the total probability, $P(\\text{Blue})$, of selecting a blue ball, we employ the law of total probability. This law allows us to partition the sample space into distinct scenarios—namely, selecting from Urn 1 and Urn 2—and compute the overall probability by summing the probabilities of each scenario:\n",
    "\n",
    "$$P(\\text{blue}) = P(\\text{blue}|\\text{urn 1})P(\\text{urn 1}) + P(\\text{blue}|\\text{urn 2})P(\\text{urn 2})$$\n",
    "\n",
    "In this context, it's important to note that the conditions of mutually exclusive and exhaustive sets are satisfied. The events are mutually exclusive because a ball can only be selected from one urn at a time, and they are exhaustive because there are no other urns from which the ball could be selected."
   ]
  },
  {
   "cell_type": "code",
   "execution_count": 39,
   "metadata": {},
   "outputs": [
    {
     "data": {
      "text/html": [
       "<div>\n",
       "<style scoped>\n",
       "    .dataframe tbody tr th:only-of-type {\n",
       "        vertical-align: middle;\n",
       "    }\n",
       "\n",
       "    .dataframe tbody tr th {\n",
       "        vertical-align: top;\n",
       "    }\n",
       "\n",
       "    .dataframe thead th {\n",
       "        text-align: right;\n",
       "    }\n",
       "</style>\n",
       "<table border=\"1\" class=\"dataframe\">\n",
       "  <thead>\n",
       "    <tr style=\"text-align: right;\">\n",
       "      <th></th>\n",
       "      <th>urn</th>\n",
       "      <th>color</th>\n",
       "      <th>count</th>\n",
       "    </tr>\n",
       "  </thead>\n",
       "  <tbody>\n",
       "    <tr>\n",
       "      <th>0</th>\n",
       "      <td>1</td>\n",
       "      <td>0</td>\n",
       "      <td>30</td>\n",
       "    </tr>\n",
       "    <tr>\n",
       "      <th>1</th>\n",
       "      <td>1</td>\n",
       "      <td>1</td>\n",
       "      <td>10</td>\n",
       "    </tr>\n",
       "    <tr>\n",
       "      <th>2</th>\n",
       "      <td>2</td>\n",
       "      <td>0</td>\n",
       "      <td>20</td>\n",
       "    </tr>\n",
       "    <tr>\n",
       "      <th>3</th>\n",
       "      <td>2</td>\n",
       "      <td>1</td>\n",
       "      <td>20</td>\n",
       "    </tr>\n",
       "  </tbody>\n",
       "</table>\n",
       "</div>"
      ],
      "text/plain": [
       "   urn  color  count\n",
       "0    1      0     30\n",
       "1    1      1     10\n",
       "2    2      0     20\n",
       "3    2      1     20"
      ]
     },
     "execution_count": 39,
     "metadata": {},
     "output_type": "execute_result"
    }
   ],
   "source": [
    "# Blue:0 and Red:1\n",
    "data = {\n",
    "    'urn': [1, 1, 2, 2],\n",
    "    'color': [0, 1, 0, 1],\n",
    "    'count': [30, 10, 20, 20]\n",
    "}\n",
    "\n",
    "df = pd.DataFrame(data)\n",
    "df"
   ]
  },
  {
   "cell_type": "code",
   "execution_count": 40,
   "metadata": {},
   "outputs": [
    {
     "name": "stdout",
     "output_type": "stream",
     "text": [
      "P(blue|urn1) =  0.75\n",
      "P(blue|urn2) =  0.5\n",
      "P(blue) =  0.625\n",
      "P(urn1|blue) =  0.6\n"
     ]
    }
   ],
   "source": [
    "blue = df['color'] == 0\n",
    "urn1 = df['urn'] == 1\n",
    "urn2 = df['urn'] == 2\n",
    "\n",
    "# Number of blue balls in urn 1 and urn 2\n",
    "N_blue_urn1 = df[blue & urn1]['count'].sum()\n",
    "N_blue_urn2 = df[blue & urn2]['count'].sum()\n",
    "# Total number of blue balls\n",
    "N_blue = df[blue]['count'].sum() \n",
    "\n",
    "N_urn1 = df[urn1]['count'].sum()\n",
    "N_urn2 = df[urn2]['count'].sum()\n",
    "\n",
    "# Conditional probabilities of getting a blue ball given the urn\n",
    "P_blue_urn1 = N_blue_urn1/N_urn1\n",
    "P_blue_urn2 = N_blue_urn2/N_urn2\n",
    "print(\"P(blue|urn1) = \", P_blue_urn1)\n",
    "print(\"P(blue|urn2) = \", P_blue_urn2)\n",
    "\n",
    "# Prior probabilities for each urn\n",
    "P_urn1 = P_urn2 = 1/2\n",
    "\n",
    "# Total probability of getting a blue ball\n",
    "P_blue = P_blue_urn1*P_urn1 + P_blue_urn2*P_urn2\n",
    "print(\"P(blue) = \", P_blue)\n",
    "\n",
    "# Bayes' rule\n",
    "p_urn1_blue = P_blue_urn1*P_urn1 / P_blue\n",
    "print(\"P(urn1|blue) = \", p_urn1_blue)"
   ]
  },
  {
   "cell_type": "markdown",
   "metadata": {},
   "source": [
    "**Bayesian update**\n",
    "\n",
    "To solve this problem, we can employ a cause-and-effect framework of bayes theorem\n",
    "\n",
    "We can employ know the Bayesian update framework for this same problem. In this scenario, we apply the Bayesian update framework to reassess our belief about which urn the blue ball came from, after observing that the selected ball is indeed blue.\n",
    "\n",
    "To begin with, we have our prior beliefs, represented by the prior probabilities $P(\\text{urn 1})$ and $P(\\text{urn 2})$, which, in the absence of any additional information, are both $1/2$, reflecting an equal chance of choosing either urn.\n",
    "\n",
    "A convenient tool for doing a Bayesian update is a Bayes table:"
   ]
  },
  {
   "cell_type": "code",
   "execution_count": 41,
   "metadata": {},
   "outputs": [
    {
     "data": {
      "text/html": [
       "<div>\n",
       "<style scoped>\n",
       "    .dataframe tbody tr th:only-of-type {\n",
       "        vertical-align: middle;\n",
       "    }\n",
       "\n",
       "    .dataframe tbody tr th {\n",
       "        vertical-align: top;\n",
       "    }\n",
       "\n",
       "    .dataframe thead th {\n",
       "        text-align: right;\n",
       "    }\n",
       "</style>\n",
       "<table border=\"1\" class=\"dataframe\">\n",
       "  <thead>\n",
       "    <tr style=\"text-align: right;\">\n",
       "      <th></th>\n",
       "      <th>prior</th>\n",
       "      <th>likelihood</th>\n",
       "    </tr>\n",
       "  </thead>\n",
       "  <tbody>\n",
       "    <tr>\n",
       "      <th>Bowl 1</th>\n",
       "      <td>0.5</td>\n",
       "      <td>0.75</td>\n",
       "    </tr>\n",
       "    <tr>\n",
       "      <th>Bowl 2</th>\n",
       "      <td>0.5</td>\n",
       "      <td>0.50</td>\n",
       "    </tr>\n",
       "  </tbody>\n",
       "</table>\n",
       "</div>"
      ],
      "text/plain": [
       "        prior  likelihood\n",
       "Bowl 1    0.5        0.75\n",
       "Bowl 2    0.5        0.50"
      ]
     },
     "execution_count": 41,
     "metadata": {},
     "output_type": "execute_result"
    }
   ],
   "source": [
    "table = pd.DataFrame(index=['Bowl 1', 'Bowl 2'])\n",
    "\n",
    "#  P(urn1) and P(urn2)\n",
    "table['prior'] = 1/2, 1/2\n",
    "\n",
    "# P(urn1|blue) and P(urn2|blue)\n",
    "table['likelihood'] = 0.75, 0.5\n",
    "table"
   ]
  },
  {
   "cell_type": "markdown",
   "metadata": {},
   "source": [
    "The likelihood are not required to sum to 1, as they are not mutually exclusive and exhaustive events. Each likelihood is calculated independently for each urn, based on the composition of balls within that specific urn. Now we multiply the priors by the likelihoods:"
   ]
  },
  {
   "cell_type": "code",
   "execution_count": 42,
   "metadata": {},
   "outputs": [
    {
     "data": {
      "text/html": [
       "<div>\n",
       "<style scoped>\n",
       "    .dataframe tbody tr th:only-of-type {\n",
       "        vertical-align: middle;\n",
       "    }\n",
       "\n",
       "    .dataframe tbody tr th {\n",
       "        vertical-align: top;\n",
       "    }\n",
       "\n",
       "    .dataframe thead th {\n",
       "        text-align: right;\n",
       "    }\n",
       "</style>\n",
       "<table border=\"1\" class=\"dataframe\">\n",
       "  <thead>\n",
       "    <tr style=\"text-align: right;\">\n",
       "      <th></th>\n",
       "      <th>prior</th>\n",
       "      <th>likelihood</th>\n",
       "      <th>unnormalized_posterior</th>\n",
       "    </tr>\n",
       "  </thead>\n",
       "  <tbody>\n",
       "    <tr>\n",
       "      <th>Bowl 1</th>\n",
       "      <td>0.5</td>\n",
       "      <td>0.75</td>\n",
       "      <td>0.375</td>\n",
       "    </tr>\n",
       "    <tr>\n",
       "      <th>Bowl 2</th>\n",
       "      <td>0.5</td>\n",
       "      <td>0.50</td>\n",
       "      <td>0.250</td>\n",
       "    </tr>\n",
       "  </tbody>\n",
       "</table>\n",
       "</div>"
      ],
      "text/plain": [
       "        prior  likelihood  unnormalized_posterior\n",
       "Bowl 1    0.5        0.75                   0.375\n",
       "Bowl 2    0.5        0.50                   0.250"
      ]
     },
     "execution_count": 42,
     "metadata": {},
     "output_type": "execute_result"
    }
   ],
   "source": [
    "table['unnormalized_posterior'] = table['prior'] * table['likelihood']\n",
    "table"
   ]
  },
  {
   "cell_type": "markdown",
   "metadata": {},
   "source": [
    "For normalizing the posterior probabilities, we have a couple of alternatives. We could compute the total probability $P(D)$ as before, or directly sum the unnormalized posterior probabilities and divide each by this sum, ensuring a valid probability distribution for the updated beliefs. This process is called “normalization”, which is why the total probability of the data is also called the “normalizing constant”."
   ]
  },
  {
   "cell_type": "code",
   "execution_count": 43,
   "metadata": {},
   "outputs": [
    {
     "data": {
      "text/html": [
       "<div>\n",
       "<style scoped>\n",
       "    .dataframe tbody tr th:only-of-type {\n",
       "        vertical-align: middle;\n",
       "    }\n",
       "\n",
       "    .dataframe tbody tr th {\n",
       "        vertical-align: top;\n",
       "    }\n",
       "\n",
       "    .dataframe thead th {\n",
       "        text-align: right;\n",
       "    }\n",
       "</style>\n",
       "<table border=\"1\" class=\"dataframe\">\n",
       "  <thead>\n",
       "    <tr style=\"text-align: right;\">\n",
       "      <th></th>\n",
       "      <th>prior</th>\n",
       "      <th>likelihood</th>\n",
       "      <th>unnormalized_posterior</th>\n",
       "      <th>posterior</th>\n",
       "    </tr>\n",
       "  </thead>\n",
       "  <tbody>\n",
       "    <tr>\n",
       "      <th>Bowl 1</th>\n",
       "      <td>0.5</td>\n",
       "      <td>0.75</td>\n",
       "      <td>0.375</td>\n",
       "      <td>0.6</td>\n",
       "    </tr>\n",
       "    <tr>\n",
       "      <th>Bowl 2</th>\n",
       "      <td>0.5</td>\n",
       "      <td>0.50</td>\n",
       "      <td>0.250</td>\n",
       "      <td>0.4</td>\n",
       "    </tr>\n",
       "  </tbody>\n",
       "</table>\n",
       "</div>"
      ],
      "text/plain": [
       "        prior  likelihood  unnormalized_posterior  posterior\n",
       "Bowl 1    0.5        0.75                   0.375        0.6\n",
       "Bowl 2    0.5        0.50                   0.250        0.4"
      ]
     },
     "execution_count": 43,
     "metadata": {},
     "output_type": "execute_result"
    }
   ],
   "source": [
    "P_data = table['unnormalized_posterior'].sum()\n",
    "table['posterior'] = table['unnormalized_posterior'] / P_data\n",
    "table"
   ]
  },
  {
   "cell_type": "markdown",
   "metadata": {},
   "source": [
    "We find that the posterior probability for Urn 1 is 0.6. This aligns with the result derived explicitly using Bayes’s theorem. Additionally, we also find the posterior probability for Urn 2 , which is 0.4."
   ]
  }
 ],
 "metadata": {
  "kernelspec": {
   "display_name": "Python 3",
   "language": "python",
   "name": "python3"
  },
  "language_info": {
   "codemirror_mode": {
    "name": "ipython",
    "version": 3
   },
   "file_extension": ".py",
   "mimetype": "text/x-python",
   "name": "python",
   "nbconvert_exporter": "python",
   "pygments_lexer": "ipython3",
   "version": "3.10.12"
  },
  "orig_nbformat": 4
 },
 "nbformat": 4,
 "nbformat_minor": 2
}
